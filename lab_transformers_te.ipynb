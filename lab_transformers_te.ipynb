{
  "cells": [
    {
      "cell_type": "markdown",
      "metadata": {
        "id": "view-in-github",
        "colab_type": "text"
      },
      "source": [
        "<a href=\"https://colab.research.google.com/github/DrNOFX97/lab-transformers/blob/main/lab_transformers_te.ipynb\" target=\"_parent\"><img src=\"https://colab.research.google.com/assets/colab-badge.svg\" alt=\"Open In Colab\"/></a>"
      ]
    },
    {
      "cell_type": "markdown",
      "metadata": {
        "id": "r-UgA6tdOuJF"
      },
      "source": [
        "# Lab | Transformers\n",
        "\n",
        "---\n",
        "\n",
        "### Section structure\n",
        "\n",
        "1. The open-source ecosystem: increasing accessibility to machine learning (ML) software and hardware\n",
        "2. Some simple code demonstrations\n",
        "3. Q&A"
      ]
    },
    {
      "cell_type": "markdown",
      "metadata": {
        "id": "-AlHgXZCVNr0"
      },
      "source": [
        "## 1. Ease-of-use: Using Transformers in 3 lines of code"
      ]
    },
    {
      "cell_type": "markdown",
      "metadata": {
        "id": "LpOoqdeqbCI-"
      },
      "source": [
        "\n",
        "**Overview of different tasks that can be automated with ML**\n",
        "* Key ingredients: (1) a model trained on a specific task; (2) input data (e.g. texts or images); (3) output produced by the model.\n",
        "* Transformers are currently the most popular type of deep learning algorithm. Most tasks below are solved with Transformers. There might be other types of algorithms coming up in the medium term.\n",
        "\n"
      ]
    },
    {
      "cell_type": "markdown",
      "metadata": {
        "id": "QP60sINRSprG"
      },
      "source": [
        "**Install the Transformers library & dependencies**"
      ]
    },
    {
      "cell_type": "code",
      "execution_count": null,
      "metadata": {
        "id": "dBMBmzH0StsF"
      },
      "outputs": [],
      "source": [
        "#!pip install transformers~=4.31.0  # The Transformers library from Hugging Face\n",
        "#!pip install sentencepiece==0.1.96  # optional tokeniser, required for some models. e.g. machine translation\n",
        "#!pip install wikipedia==1.4.0  # to download any text from wikipedia\n",
        "# running large models with accelerate https://huggingface.co/blog/accelerate-large-models\n",
        "# NOTE: we need to restart the runtime after installing accelerate\n",
        "#!pip install accelerate~=0.21.0"
      ]
    },
    {
      "cell_type": "code",
      "execution_count": null,
      "metadata": {
        "colab": {
          "base_uri": "https://localhost:8080/"
        },
        "id": "k2TbwfxTVCjP",
        "outputId": "2d0887b2-c118-47d3-a851-03cae2cf1b21"
      },
      "outputs": [
        {
          "output_type": "stream",
          "name": "stdout",
          "text": [
            "GPU acceleration in place powered by nVIDIA (CUDA)\n"
          ]
        }
      ],
      "source": [
        "# automatically chose CPU or GPU for inference, depending on your hardware\n",
        "import torch\n",
        "#device_id = torch.cuda.current_device() if torch.cuda.is_available() else -1\n",
        "# -1 == CPU ; 0 == GPU\n",
        "\n",
        "# Check available device\n",
        "if torch.cuda.is_available():\n",
        "    device = torch.device(\"cuda:0\")\n",
        "    device_info = \"GPU acceleration in place powered by nVIDIA (CUDA)\"\n",
        "elif torch.backends.mps.is_available():\n",
        "    device = torch.device(\"mps\")\n",
        "    device_info = \"GPU acceleration in place powered by Apple's Metal Performance Shaders (MPS)\"\n",
        "else:\n",
        "    device = torch.device(\"cpu\")\n",
        "    device_info = \"Using CPU... Best of luck...\"\n",
        "\n",
        "print(device_info)"
      ]
    },
    {
      "cell_type": "markdown",
      "metadata": {
        "id": "D5FYbEIBEzEu"
      },
      "source": [
        "**The Hugging Face Pipeline**\n",
        "* Makes automation of many NLP tasks possible in 3 lines of code\n",
        "* Detailed documentation is available [here](https://huggingface.co/transformers/main_classes/pipelines.html)"
      ]
    },
    {
      "cell_type": "code",
      "execution_count": null,
      "metadata": {
        "id": "0U1iHK0ETBXf"
      },
      "outputs": [],
      "source": [
        "from transformers import pipeline\n",
        "import pandas as pd\n",
        "import numpy as np\n",
        "from pprint import pprint"
      ]
    },
    {
      "cell_type": "markdown",
      "metadata": {
        "id": "rKt3KNCBQ2fe"
      },
      "source": [
        "### 2.1 Many models tailored to specific tasks\n"
      ]
    },
    {
      "cell_type": "markdown",
      "metadata": {
        "id": "GbZWdV3LWP2l"
      },
      "source": [
        "#### 2.1.1 Text classification"
      ]
    },
    {
      "cell_type": "markdown",
      "metadata": {
        "id": "390ar7USTP30"
      },
      "source": [
        "Let's search for a few popular text classification models in the [HF model hub](https://huggingface.co/models?pipeline_tag=text-classification&sort=downloads)."
      ]
    },
    {
      "cell_type": "code",
      "execution_count": null,
      "metadata": {
        "id": "9eSf_m0aYTXI"
      },
      "outputs": [],
      "source": [
        "import warnings\n",
        "# Suppress the FutureWarning about resume_download\n",
        "warnings.filterwarnings(\"ignore\", message=\"`resume_download` is deprecated and will be removed in version 1.0.0.\")"
      ]
    },
    {
      "cell_type": "code",
      "execution_count": null,
      "metadata": {
        "id": "TIZONhtlYTXI"
      },
      "outputs": [],
      "source": [
        "#!pip install xformers"
      ]
    },
    {
      "cell_type": "code",
      "execution_count": null,
      "metadata": {
        "id": "cCf4vsXrbczm"
      },
      "outputs": [],
      "source": [
        "pipeline_classification = pipeline(\"text-classification\", model=\"cardiffnlp/twitter-roberta-base-irony\")"
      ]
    },
    {
      "cell_type": "code",
      "execution_count": null,
      "metadata": {
        "colab": {
          "base_uri": "https://localhost:8080/"
        },
        "id": "Uhf7MYboRdEy",
        "outputId": "2b382bdb-41e7-4b40-ef22-e03ac3b5f95a"
      },
      "outputs": [
        {
          "output_type": "stream",
          "name": "stdout",
          "text": [
            "[{'label': 'irony', 'score': 0.9424386620521545}, {'label': 'non_irony', 'score': 0.057561296969652176}]\n"
          ]
        }
      ],
      "source": [
        "text = \"Well that workshop was totally worth my time...\"  # \"Well that workshop was totally worth my time...\"  \"This smells weird, I'm not sure if I should eat this ... Yikes, it tasted like old socks!\"\n",
        "output = pipeline_classification(text, top_k=10)\n",
        "print(output)"
      ]
    },
    {
      "cell_type": "code",
      "execution_count": null,
      "metadata": {
        "colab": {
          "base_uri": "https://localhost:8080/"
        },
        "id": "zwtj5Lm8cdh8",
        "outputId": "2684cabd-e7a6-4af7-fb55-2b90de215fc1"
      },
      "outputs": [
        {
          "output_type": "stream",
          "name": "stdout",
          "text": [
            "       label     score\n",
            "0      irony  0.942439\n",
            "1  non_irony  0.057561\n"
          ]
        }
      ],
      "source": [
        "# make output a bit cleaner\n",
        "df_output = pd.DataFrame(output)\n",
        "print(df_output)"
      ]
    },
    {
      "cell_type": "markdown",
      "metadata": {
        "id": "HIOYqJZ9kOtk"
      },
      "source": [
        "#### 2.1.2 Machine Translation"
      ]
    },
    {
      "cell_type": "markdown",
      "metadata": {
        "id": "Vk69-EpwvlbH"
      },
      "source": [
        "* Open source machine translation (MT) models enable you to translate between many different languages without Google Translate.\n",
        "* [University of Helsinki](https://huggingface.co/Helsinki-NLP) uploaded models for more than 1000 language pairs to the Hugging Face hub\n",
        "* [Facebook AI](https://huggingface.co/models?search=facebook+m2m) open-sourced several multi-lingual models\n",
        "* The [EasyNMT library](https://github.com/UKPLab/EasyNMT), provides an easy wrapper for all these models\n",
        "* Most machine translation models translate between two languages in one direction (e.g. German to English, but not English to German), some can translate in multiple directions.\n"
      ]
    },
    {
      "cell_type": "code",
      "execution_count": null,
      "metadata": {
        "id": "cVOCZ3VuYTXK"
      },
      "outputs": [],
      "source": [
        "import warnings\n",
        "\n",
        "# Suppress the FutureWarning about resume_download\n",
        "warnings.filterwarnings(\"ignore\", message=\"`resume_download` is deprecated and will be removed in version 1.0.0.\")\n",
        "\n",
        "# Install the required libraries\n",
        "#!pip install transformers~=4.31.0\n",
        "#!pip install sentencepiece==0.1.96\n",
        "#!pip install wikipedia==1.4.0\n",
        "#!pip install accelerate~=0.21.0"
      ]
    },
    {
      "cell_type": "code",
      "execution_count": null,
      "metadata": {
        "id": "pRu-HgouYTXK"
      },
      "outputs": [],
      "source": [
        "# translation pipeline docs: https://huggingface.co/transformers/main_classes/pipelines.html#transformers.TranslationPipeline\n",
        "pipeline_translate = pipeline(\"translation\", model=\"facebook/m2m100_418M\")"
      ]
    },
    {
      "cell_type": "code",
      "execution_count": null,
      "metadata": {
        "colab": {
          "base_uri": "https://localhost:8080/"
        },
        "id": "p7pra41KlFwf",
        "outputId": "7d711536-9a01-4f81-afa0-2478df5d3f30"
      },
      "outputs": [
        {
          "output_type": "execute_result",
          "data": {
            "text/plain": [
              "[{'translation_text': 'I am a fish'}]"
            ]
          },
          "metadata": {},
          "execution_count": 44
        }
      ],
      "source": [
        "text = \"Ich bin ein Fisch\"\n",
        "pipeline_translate(text, src_lang=\"de\", tgt_lang=\"en\")"
      ]
    },
    {
      "cell_type": "code",
      "source": [
        "#!pip install wikipedia"
      ],
      "metadata": {
        "id": "bXj56f5GY5FM"
      },
      "execution_count": null,
      "outputs": []
    },
    {
      "cell_type": "code",
      "execution_count": null,
      "metadata": {
        "colab": {
          "base_uri": "https://localhost:8080/"
        },
        "id": "v7w6BRcOsjt7",
        "outputId": "ef2a0792-3ed4-4782-cde0-ff65545b653e"
      },
      "outputs": [
        {
          "output_type": "stream",
          "name": "stdout",
          "text": [
            "Original text:\n",
            "Sporting Clube Farense é um clube de futebol português, da cidade de Faro. É o clube mais antigo e com maior historial do Algarve. Utiliza como equipamento, camisola preta ou (e) branca, calção preto ou branco e meias brancas ou pretas. O Sporting Clube Farense possui concomitantemente o décimo quarto (14.º) melhor r\n",
            "\n",
            "Translated text:\n",
            "Sporting Club Farense is a Portuguese football club, from the city of Faro. It is the oldest club and with the largest history of Algarve. It uses as equipment, black or (e) white shirt, black or white calcium and white or black mids. The Sporting Club Farense has simultaneously the twentieth quarter (14.) best r\n"
          ]
        }
      ],
      "source": [
        "# download any text from wikipedia, via  https://pypi.org/project/wikipedia/\n",
        "import wikipedia\n",
        "wikipedia.set_lang(\"pt\")\n",
        "\n",
        "text = wikipedia.summary(\"Sporting Clube Farense\").replace('\\n', ' ')[:318]\n",
        "print(f\"Original text:\\n{text}\\n\")\n",
        "\n",
        "# translate the text from wikipedia\n",
        "text_translated = pipeline_translate(text, src_lang=\"pt\", tgt_lang=\"en\")\n",
        "print(f\"Translated text:\\n{text_translated[0]['translation_text']}\")\n"
      ]
    },
    {
      "cell_type": "markdown",
      "metadata": {
        "id": "YK9-BIv-WdyR"
      },
      "source": [
        "#### 2.1.3 Text Summarization"
      ]
    },
    {
      "cell_type": "code",
      "execution_count": null,
      "metadata": {
        "id": "IuzEFpiQ2JuS"
      },
      "outputs": [],
      "source": [
        "# docs for summarisation pipeline: https://huggingface.co/transformers/main_classes/pipelines.html#summarizationpipeline\n",
        "pipeline_summarize = pipeline(\"summarization\", model=\"sshleifer/distilbart-cnn-12-6\")  # sshleifer/distilbart-cnn-12-6 , google/pegasus-cnn_dailymail"
      ]
    },
    {
      "cell_type": "code",
      "execution_count": null,
      "metadata": {
        "colab": {
          "base_uri": "https://localhost:8080/"
        },
        "id": "VJWNGmGe2MUt",
        "outputId": "1da83890-f072-43e3-d54c-0361feb61bf1"
      },
      "outputs": [
        {
          "output_type": "stream",
          "name": "stdout",
          "text": [
            "Original text:\n",
            "Sporting Clube Farense é um clube de futebol português, da cidade de Faro. É o clube mais antigo e com maior historial do Algarve. Utiliza como equipamento, camisola preta ou (e) branca, calção preto ou branco e meias brancas ou pretas. O Sporting Clube Farense possui concomitantemente o décimo quarto (14.º) melhor registo na Primeira Liga Portuguesa e na Taça de Portugal. Destacam-se a presença na Final da Taça de Portugal na época 1989/1990, e ainda o 5.º lugar obtido na época 1994/1995, que valeu ao clube a participação na Taça UEFA no ano seguinte.\n",
            "\n",
            "Summarized text:\n",
            " Sporting Clube Farense is a clube de futebol português, da cidade de Faro .\n"
          ]
        }
      ],
      "source": [
        "# download any long text from wikipedia, via  https://pypi.org/project/wikipedia/\n",
        "import wikipedia\n",
        "wikipedia.set_lang(\"pt\")\n",
        "\n",
        "text_long = wikipedia.summary(\"Sporting Clube Farense\").replace('\\n', ' ')\n",
        "print(f\"Original text:\\n{text_long}\\n\")\n",
        "\n",
        "# translate the text from wikipedia\n",
        "text_summarized = pipeline_summarize(text_long, min_length=5, max_length=30)\n",
        "print(f\"Summarized text:\\n{text_summarized[0]['summary_text']}\")"
      ]
    },
    {
      "cell_type": "markdown",
      "metadata": {
        "id": "2qVNMGy4ZQMU"
      },
      "source": [
        "#### 2.1.4 Named Entity Recognition"
      ]
    },
    {
      "cell_type": "code",
      "execution_count": null,
      "metadata": {
        "colab": {
          "base_uri": "https://localhost:8080/"
        },
        "id": "dObNMi5EZTCQ",
        "outputId": "8bb1e6c5-1f4d-49e8-80a8-330a94fb6458"
      },
      "outputs": [
        {
          "output_type": "stream",
          "name": "stderr",
          "text": [
            "Some weights of the model checkpoint at dslim/bert-base-NER-uncased were not used when initializing BertForTokenClassification: ['bert.pooler.dense.bias', 'bert.pooler.dense.weight']\n",
            "- This IS expected if you are initializing BertForTokenClassification from the checkpoint of a model trained on another task or with another architecture (e.g. initializing a BertForSequenceClassification model from a BertForPreTraining model).\n",
            "- This IS NOT expected if you are initializing BertForTokenClassification from the checkpoint of a model that you expect to be exactly identical (initializing a BertForSequenceClassification model from a BertForSequenceClassification model).\n"
          ]
        }
      ],
      "source": [
        "pipeline_ner = pipeline(\"token-classification\", model=\"dslim/bert-base-NER-uncased\", aggregation_strategy=\"simple\")"
      ]
    },
    {
      "cell_type": "code",
      "execution_count": null,
      "metadata": {
        "colab": {
          "base_uri": "https://localhost:8080/",
          "height": 1000
        },
        "id": "QW99M5wiZmaL",
        "outputId": "c53d149e-5a6a-4d79-8696-0f55a226da45"
      },
      "outputs": [
        {
          "output_type": "execute_result",
          "data": {
            "text/plain": [
              "   entity_group     score                           word  start  end\n",
              "0           ORG  0.993572         sporting clube farense      0   22\n",
              "1           ORG  0.917649  um clube de futebol portugues     25   54\n",
              "2           ORG  0.864415              da cidade de faro     56   73\n",
              "3           ORG  0.571216                      clube mai     79   88\n",
              "4           ORG  0.595262                         antigo     90   96\n",
              "5          MISC  0.478366                          maior    103  108\n",
              "6           ORG  0.857461                historial do al    109  124\n",
              "7           LOC  0.840841                        ##garve    124  129\n",
              "8           ORG  0.974541                             ut    131  133\n",
              "9           ORG  0.880519                          ##ili    133  136\n",
              "10          ORG  0.643346                      ##za como    136  143\n",
              "11          ORG  0.866013                    equipamento    144  155\n",
              "12          ORG  0.990014                 camisola preta    157  171\n",
              "13          ORG  0.486258                              e    176  177\n",
              "14          ORG  0.922230                         branca    179  185\n",
              "15          ORG  0.993981                   calcao preto    187  199\n",
              "16          ORG  0.992115                         branco    203  209\n",
              "17          ORG  0.990926                  meias brancas    212  225\n",
              "18          ORG  0.870491                         pretas    229  235\n",
              "19          ORG  0.916237  sporting clube farense possui    239  268\n",
              "20          ORG  0.864107                 melhor registo    310  324\n",
              "21          ORG  0.834077                          prime    328  333\n",
              "22         MISC  0.820795                     ##ira liga    333  341\n",
              "23          ORG  0.525781                      portugues    342  351\n",
              "24         MISC  0.487803                            ##a    351  352\n",
              "25         MISC  0.857278               taca de portugal    358  374\n",
              "26         MISC  0.502731                        ##senca    393  398\n",
              "27         MISC  0.486989                          final    402  407\n",
              "28         MISC  0.839801                        taca de    411  418\n",
              "29          LOC  0.394644                       portugal    419  427\n",
              "30          LOC  0.622453                          epoca    431  436\n",
              "31          ORG  0.549668                          ainda    450  455\n",
              "32          ORG  0.456578                          ##gar    464  467\n",
              "33         MISC  0.594465                           ##ti    470  472\n",
              "34          ORG  0.641929                           ##do    472  474\n",
              "35          LOC  0.533380                          epoca    478  483\n",
              "36          ORG  0.681062                          valeu    499  504\n",
              "37          ORG  0.542719                          clube    508  513\n",
              "38          ORG  0.717563                   participacao    516  528\n",
              "39          ORG  0.364070                             ta    532  534\n",
              "40         MISC  0.803901                           ##ca    534  536\n",
              "41          ORG  0.758496                           uefa    537  541\n",
              "42         MISC  0.733100                no ano seguinte    542  557"
            ],
            "text/html": [
              "\n",
              "  <div id=\"df-0e3032fb-6a22-4851-971b-c347adb15b38\" class=\"colab-df-container\">\n",
              "    <div>\n",
              "<style scoped>\n",
              "    .dataframe tbody tr th:only-of-type {\n",
              "        vertical-align: middle;\n",
              "    }\n",
              "\n",
              "    .dataframe tbody tr th {\n",
              "        vertical-align: top;\n",
              "    }\n",
              "\n",
              "    .dataframe thead th {\n",
              "        text-align: right;\n",
              "    }\n",
              "</style>\n",
              "<table border=\"1\" class=\"dataframe\">\n",
              "  <thead>\n",
              "    <tr style=\"text-align: right;\">\n",
              "      <th></th>\n",
              "      <th>entity_group</th>\n",
              "      <th>score</th>\n",
              "      <th>word</th>\n",
              "      <th>start</th>\n",
              "      <th>end</th>\n",
              "    </tr>\n",
              "  </thead>\n",
              "  <tbody>\n",
              "    <tr>\n",
              "      <th>0</th>\n",
              "      <td>ORG</td>\n",
              "      <td>0.993572</td>\n",
              "      <td>sporting clube farense</td>\n",
              "      <td>0</td>\n",
              "      <td>22</td>\n",
              "    </tr>\n",
              "    <tr>\n",
              "      <th>1</th>\n",
              "      <td>ORG</td>\n",
              "      <td>0.917649</td>\n",
              "      <td>um clube de futebol portugues</td>\n",
              "      <td>25</td>\n",
              "      <td>54</td>\n",
              "    </tr>\n",
              "    <tr>\n",
              "      <th>2</th>\n",
              "      <td>ORG</td>\n",
              "      <td>0.864415</td>\n",
              "      <td>da cidade de faro</td>\n",
              "      <td>56</td>\n",
              "      <td>73</td>\n",
              "    </tr>\n",
              "    <tr>\n",
              "      <th>3</th>\n",
              "      <td>ORG</td>\n",
              "      <td>0.571216</td>\n",
              "      <td>clube mai</td>\n",
              "      <td>79</td>\n",
              "      <td>88</td>\n",
              "    </tr>\n",
              "    <tr>\n",
              "      <th>4</th>\n",
              "      <td>ORG</td>\n",
              "      <td>0.595262</td>\n",
              "      <td>antigo</td>\n",
              "      <td>90</td>\n",
              "      <td>96</td>\n",
              "    </tr>\n",
              "    <tr>\n",
              "      <th>5</th>\n",
              "      <td>MISC</td>\n",
              "      <td>0.478366</td>\n",
              "      <td>maior</td>\n",
              "      <td>103</td>\n",
              "      <td>108</td>\n",
              "    </tr>\n",
              "    <tr>\n",
              "      <th>6</th>\n",
              "      <td>ORG</td>\n",
              "      <td>0.857461</td>\n",
              "      <td>historial do al</td>\n",
              "      <td>109</td>\n",
              "      <td>124</td>\n",
              "    </tr>\n",
              "    <tr>\n",
              "      <th>7</th>\n",
              "      <td>LOC</td>\n",
              "      <td>0.840841</td>\n",
              "      <td>##garve</td>\n",
              "      <td>124</td>\n",
              "      <td>129</td>\n",
              "    </tr>\n",
              "    <tr>\n",
              "      <th>8</th>\n",
              "      <td>ORG</td>\n",
              "      <td>0.974541</td>\n",
              "      <td>ut</td>\n",
              "      <td>131</td>\n",
              "      <td>133</td>\n",
              "    </tr>\n",
              "    <tr>\n",
              "      <th>9</th>\n",
              "      <td>ORG</td>\n",
              "      <td>0.880519</td>\n",
              "      <td>##ili</td>\n",
              "      <td>133</td>\n",
              "      <td>136</td>\n",
              "    </tr>\n",
              "    <tr>\n",
              "      <th>10</th>\n",
              "      <td>ORG</td>\n",
              "      <td>0.643346</td>\n",
              "      <td>##za como</td>\n",
              "      <td>136</td>\n",
              "      <td>143</td>\n",
              "    </tr>\n",
              "    <tr>\n",
              "      <th>11</th>\n",
              "      <td>ORG</td>\n",
              "      <td>0.866013</td>\n",
              "      <td>equipamento</td>\n",
              "      <td>144</td>\n",
              "      <td>155</td>\n",
              "    </tr>\n",
              "    <tr>\n",
              "      <th>12</th>\n",
              "      <td>ORG</td>\n",
              "      <td>0.990014</td>\n",
              "      <td>camisola preta</td>\n",
              "      <td>157</td>\n",
              "      <td>171</td>\n",
              "    </tr>\n",
              "    <tr>\n",
              "      <th>13</th>\n",
              "      <td>ORG</td>\n",
              "      <td>0.486258</td>\n",
              "      <td>e</td>\n",
              "      <td>176</td>\n",
              "      <td>177</td>\n",
              "    </tr>\n",
              "    <tr>\n",
              "      <th>14</th>\n",
              "      <td>ORG</td>\n",
              "      <td>0.922230</td>\n",
              "      <td>branca</td>\n",
              "      <td>179</td>\n",
              "      <td>185</td>\n",
              "    </tr>\n",
              "    <tr>\n",
              "      <th>15</th>\n",
              "      <td>ORG</td>\n",
              "      <td>0.993981</td>\n",
              "      <td>calcao preto</td>\n",
              "      <td>187</td>\n",
              "      <td>199</td>\n",
              "    </tr>\n",
              "    <tr>\n",
              "      <th>16</th>\n",
              "      <td>ORG</td>\n",
              "      <td>0.992115</td>\n",
              "      <td>branco</td>\n",
              "      <td>203</td>\n",
              "      <td>209</td>\n",
              "    </tr>\n",
              "    <tr>\n",
              "      <th>17</th>\n",
              "      <td>ORG</td>\n",
              "      <td>0.990926</td>\n",
              "      <td>meias brancas</td>\n",
              "      <td>212</td>\n",
              "      <td>225</td>\n",
              "    </tr>\n",
              "    <tr>\n",
              "      <th>18</th>\n",
              "      <td>ORG</td>\n",
              "      <td>0.870491</td>\n",
              "      <td>pretas</td>\n",
              "      <td>229</td>\n",
              "      <td>235</td>\n",
              "    </tr>\n",
              "    <tr>\n",
              "      <th>19</th>\n",
              "      <td>ORG</td>\n",
              "      <td>0.916237</td>\n",
              "      <td>sporting clube farense possui</td>\n",
              "      <td>239</td>\n",
              "      <td>268</td>\n",
              "    </tr>\n",
              "    <tr>\n",
              "      <th>20</th>\n",
              "      <td>ORG</td>\n",
              "      <td>0.864107</td>\n",
              "      <td>melhor registo</td>\n",
              "      <td>310</td>\n",
              "      <td>324</td>\n",
              "    </tr>\n",
              "    <tr>\n",
              "      <th>21</th>\n",
              "      <td>ORG</td>\n",
              "      <td>0.834077</td>\n",
              "      <td>prime</td>\n",
              "      <td>328</td>\n",
              "      <td>333</td>\n",
              "    </tr>\n",
              "    <tr>\n",
              "      <th>22</th>\n",
              "      <td>MISC</td>\n",
              "      <td>0.820795</td>\n",
              "      <td>##ira liga</td>\n",
              "      <td>333</td>\n",
              "      <td>341</td>\n",
              "    </tr>\n",
              "    <tr>\n",
              "      <th>23</th>\n",
              "      <td>ORG</td>\n",
              "      <td>0.525781</td>\n",
              "      <td>portugues</td>\n",
              "      <td>342</td>\n",
              "      <td>351</td>\n",
              "    </tr>\n",
              "    <tr>\n",
              "      <th>24</th>\n",
              "      <td>MISC</td>\n",
              "      <td>0.487803</td>\n",
              "      <td>##a</td>\n",
              "      <td>351</td>\n",
              "      <td>352</td>\n",
              "    </tr>\n",
              "    <tr>\n",
              "      <th>25</th>\n",
              "      <td>MISC</td>\n",
              "      <td>0.857278</td>\n",
              "      <td>taca de portugal</td>\n",
              "      <td>358</td>\n",
              "      <td>374</td>\n",
              "    </tr>\n",
              "    <tr>\n",
              "      <th>26</th>\n",
              "      <td>MISC</td>\n",
              "      <td>0.502731</td>\n",
              "      <td>##senca</td>\n",
              "      <td>393</td>\n",
              "      <td>398</td>\n",
              "    </tr>\n",
              "    <tr>\n",
              "      <th>27</th>\n",
              "      <td>MISC</td>\n",
              "      <td>0.486989</td>\n",
              "      <td>final</td>\n",
              "      <td>402</td>\n",
              "      <td>407</td>\n",
              "    </tr>\n",
              "    <tr>\n",
              "      <th>28</th>\n",
              "      <td>MISC</td>\n",
              "      <td>0.839801</td>\n",
              "      <td>taca de</td>\n",
              "      <td>411</td>\n",
              "      <td>418</td>\n",
              "    </tr>\n",
              "    <tr>\n",
              "      <th>29</th>\n",
              "      <td>LOC</td>\n",
              "      <td>0.394644</td>\n",
              "      <td>portugal</td>\n",
              "      <td>419</td>\n",
              "      <td>427</td>\n",
              "    </tr>\n",
              "    <tr>\n",
              "      <th>30</th>\n",
              "      <td>LOC</td>\n",
              "      <td>0.622453</td>\n",
              "      <td>epoca</td>\n",
              "      <td>431</td>\n",
              "      <td>436</td>\n",
              "    </tr>\n",
              "    <tr>\n",
              "      <th>31</th>\n",
              "      <td>ORG</td>\n",
              "      <td>0.549668</td>\n",
              "      <td>ainda</td>\n",
              "      <td>450</td>\n",
              "      <td>455</td>\n",
              "    </tr>\n",
              "    <tr>\n",
              "      <th>32</th>\n",
              "      <td>ORG</td>\n",
              "      <td>0.456578</td>\n",
              "      <td>##gar</td>\n",
              "      <td>464</td>\n",
              "      <td>467</td>\n",
              "    </tr>\n",
              "    <tr>\n",
              "      <th>33</th>\n",
              "      <td>MISC</td>\n",
              "      <td>0.594465</td>\n",
              "      <td>##ti</td>\n",
              "      <td>470</td>\n",
              "      <td>472</td>\n",
              "    </tr>\n",
              "    <tr>\n",
              "      <th>34</th>\n",
              "      <td>ORG</td>\n",
              "      <td>0.641929</td>\n",
              "      <td>##do</td>\n",
              "      <td>472</td>\n",
              "      <td>474</td>\n",
              "    </tr>\n",
              "    <tr>\n",
              "      <th>35</th>\n",
              "      <td>LOC</td>\n",
              "      <td>0.533380</td>\n",
              "      <td>epoca</td>\n",
              "      <td>478</td>\n",
              "      <td>483</td>\n",
              "    </tr>\n",
              "    <tr>\n",
              "      <th>36</th>\n",
              "      <td>ORG</td>\n",
              "      <td>0.681062</td>\n",
              "      <td>valeu</td>\n",
              "      <td>499</td>\n",
              "      <td>504</td>\n",
              "    </tr>\n",
              "    <tr>\n",
              "      <th>37</th>\n",
              "      <td>ORG</td>\n",
              "      <td>0.542719</td>\n",
              "      <td>clube</td>\n",
              "      <td>508</td>\n",
              "      <td>513</td>\n",
              "    </tr>\n",
              "    <tr>\n",
              "      <th>38</th>\n",
              "      <td>ORG</td>\n",
              "      <td>0.717563</td>\n",
              "      <td>participacao</td>\n",
              "      <td>516</td>\n",
              "      <td>528</td>\n",
              "    </tr>\n",
              "    <tr>\n",
              "      <th>39</th>\n",
              "      <td>ORG</td>\n",
              "      <td>0.364070</td>\n",
              "      <td>ta</td>\n",
              "      <td>532</td>\n",
              "      <td>534</td>\n",
              "    </tr>\n",
              "    <tr>\n",
              "      <th>40</th>\n",
              "      <td>MISC</td>\n",
              "      <td>0.803901</td>\n",
              "      <td>##ca</td>\n",
              "      <td>534</td>\n",
              "      <td>536</td>\n",
              "    </tr>\n",
              "    <tr>\n",
              "      <th>41</th>\n",
              "      <td>ORG</td>\n",
              "      <td>0.758496</td>\n",
              "      <td>uefa</td>\n",
              "      <td>537</td>\n",
              "      <td>541</td>\n",
              "    </tr>\n",
              "    <tr>\n",
              "      <th>42</th>\n",
              "      <td>MISC</td>\n",
              "      <td>0.733100</td>\n",
              "      <td>no ano seguinte</td>\n",
              "      <td>542</td>\n",
              "      <td>557</td>\n",
              "    </tr>\n",
              "  </tbody>\n",
              "</table>\n",
              "</div>\n",
              "    <div class=\"colab-df-buttons\">\n",
              "\n",
              "  <div class=\"colab-df-container\">\n",
              "    <button class=\"colab-df-convert\" onclick=\"convertToInteractive('df-0e3032fb-6a22-4851-971b-c347adb15b38')\"\n",
              "            title=\"Convert this dataframe to an interactive table.\"\n",
              "            style=\"display:none;\">\n",
              "\n",
              "  <svg xmlns=\"http://www.w3.org/2000/svg\" height=\"24px\" viewBox=\"0 -960 960 960\">\n",
              "    <path d=\"M120-120v-720h720v720H120Zm60-500h600v-160H180v160Zm220 220h160v-160H400v160Zm0 220h160v-160H400v160ZM180-400h160v-160H180v160Zm440 0h160v-160H620v160ZM180-180h160v-160H180v160Zm440 0h160v-160H620v160Z\"/>\n",
              "  </svg>\n",
              "    </button>\n",
              "\n",
              "  <style>\n",
              "    .colab-df-container {\n",
              "      display:flex;\n",
              "      gap: 12px;\n",
              "    }\n",
              "\n",
              "    .colab-df-convert {\n",
              "      background-color: #E8F0FE;\n",
              "      border: none;\n",
              "      border-radius: 50%;\n",
              "      cursor: pointer;\n",
              "      display: none;\n",
              "      fill: #1967D2;\n",
              "      height: 32px;\n",
              "      padding: 0 0 0 0;\n",
              "      width: 32px;\n",
              "    }\n",
              "\n",
              "    .colab-df-convert:hover {\n",
              "      background-color: #E2EBFA;\n",
              "      box-shadow: 0px 1px 2px rgba(60, 64, 67, 0.3), 0px 1px 3px 1px rgba(60, 64, 67, 0.15);\n",
              "      fill: #174EA6;\n",
              "    }\n",
              "\n",
              "    .colab-df-buttons div {\n",
              "      margin-bottom: 4px;\n",
              "    }\n",
              "\n",
              "    [theme=dark] .colab-df-convert {\n",
              "      background-color: #3B4455;\n",
              "      fill: #D2E3FC;\n",
              "    }\n",
              "\n",
              "    [theme=dark] .colab-df-convert:hover {\n",
              "      background-color: #434B5C;\n",
              "      box-shadow: 0px 1px 3px 1px rgba(0, 0, 0, 0.15);\n",
              "      filter: drop-shadow(0px 1px 2px rgba(0, 0, 0, 0.3));\n",
              "      fill: #FFFFFF;\n",
              "    }\n",
              "  </style>\n",
              "\n",
              "    <script>\n",
              "      const buttonEl =\n",
              "        document.querySelector('#df-0e3032fb-6a22-4851-971b-c347adb15b38 button.colab-df-convert');\n",
              "      buttonEl.style.display =\n",
              "        google.colab.kernel.accessAllowed ? 'block' : 'none';\n",
              "\n",
              "      async function convertToInteractive(key) {\n",
              "        const element = document.querySelector('#df-0e3032fb-6a22-4851-971b-c347adb15b38');\n",
              "        const dataTable =\n",
              "          await google.colab.kernel.invokeFunction('convertToInteractive',\n",
              "                                                    [key], {});\n",
              "        if (!dataTable) return;\n",
              "\n",
              "        const docLinkHtml = 'Like what you see? Visit the ' +\n",
              "          '<a target=\"_blank\" href=https://colab.research.google.com/notebooks/data_table.ipynb>data table notebook</a>'\n",
              "          + ' to learn more about interactive tables.';\n",
              "        element.innerHTML = '';\n",
              "        dataTable['output_type'] = 'display_data';\n",
              "        await google.colab.output.renderOutput(dataTable, element);\n",
              "        const docLink = document.createElement('div');\n",
              "        docLink.innerHTML = docLinkHtml;\n",
              "        element.appendChild(docLink);\n",
              "      }\n",
              "    </script>\n",
              "  </div>\n",
              "\n",
              "\n",
              "<div id=\"df-f6c83eef-483e-4b57-b408-cf27859493d7\">\n",
              "  <button class=\"colab-df-quickchart\" onclick=\"quickchart('df-f6c83eef-483e-4b57-b408-cf27859493d7')\"\n",
              "            title=\"Suggest charts\"\n",
              "            style=\"display:none;\">\n",
              "\n",
              "<svg xmlns=\"http://www.w3.org/2000/svg\" height=\"24px\"viewBox=\"0 0 24 24\"\n",
              "     width=\"24px\">\n",
              "    <g>\n",
              "        <path d=\"M19 3H5c-1.1 0-2 .9-2 2v14c0 1.1.9 2 2 2h14c1.1 0 2-.9 2-2V5c0-1.1-.9-2-2-2zM9 17H7v-7h2v7zm4 0h-2V7h2v10zm4 0h-2v-4h2v4z\"/>\n",
              "    </g>\n",
              "</svg>\n",
              "  </button>\n",
              "\n",
              "<style>\n",
              "  .colab-df-quickchart {\n",
              "      --bg-color: #E8F0FE;\n",
              "      --fill-color: #1967D2;\n",
              "      --hover-bg-color: #E2EBFA;\n",
              "      --hover-fill-color: #174EA6;\n",
              "      --disabled-fill-color: #AAA;\n",
              "      --disabled-bg-color: #DDD;\n",
              "  }\n",
              "\n",
              "  [theme=dark] .colab-df-quickchart {\n",
              "      --bg-color: #3B4455;\n",
              "      --fill-color: #D2E3FC;\n",
              "      --hover-bg-color: #434B5C;\n",
              "      --hover-fill-color: #FFFFFF;\n",
              "      --disabled-bg-color: #3B4455;\n",
              "      --disabled-fill-color: #666;\n",
              "  }\n",
              "\n",
              "  .colab-df-quickchart {\n",
              "    background-color: var(--bg-color);\n",
              "    border: none;\n",
              "    border-radius: 50%;\n",
              "    cursor: pointer;\n",
              "    display: none;\n",
              "    fill: var(--fill-color);\n",
              "    height: 32px;\n",
              "    padding: 0;\n",
              "    width: 32px;\n",
              "  }\n",
              "\n",
              "  .colab-df-quickchart:hover {\n",
              "    background-color: var(--hover-bg-color);\n",
              "    box-shadow: 0 1px 2px rgba(60, 64, 67, 0.3), 0 1px 3px 1px rgba(60, 64, 67, 0.15);\n",
              "    fill: var(--button-hover-fill-color);\n",
              "  }\n",
              "\n",
              "  .colab-df-quickchart-complete:disabled,\n",
              "  .colab-df-quickchart-complete:disabled:hover {\n",
              "    background-color: var(--disabled-bg-color);\n",
              "    fill: var(--disabled-fill-color);\n",
              "    box-shadow: none;\n",
              "  }\n",
              "\n",
              "  .colab-df-spinner {\n",
              "    border: 2px solid var(--fill-color);\n",
              "    border-color: transparent;\n",
              "    border-bottom-color: var(--fill-color);\n",
              "    animation:\n",
              "      spin 1s steps(1) infinite;\n",
              "  }\n",
              "\n",
              "  @keyframes spin {\n",
              "    0% {\n",
              "      border-color: transparent;\n",
              "      border-bottom-color: var(--fill-color);\n",
              "      border-left-color: var(--fill-color);\n",
              "    }\n",
              "    20% {\n",
              "      border-color: transparent;\n",
              "      border-left-color: var(--fill-color);\n",
              "      border-top-color: var(--fill-color);\n",
              "    }\n",
              "    30% {\n",
              "      border-color: transparent;\n",
              "      border-left-color: var(--fill-color);\n",
              "      border-top-color: var(--fill-color);\n",
              "      border-right-color: var(--fill-color);\n",
              "    }\n",
              "    40% {\n",
              "      border-color: transparent;\n",
              "      border-right-color: var(--fill-color);\n",
              "      border-top-color: var(--fill-color);\n",
              "    }\n",
              "    60% {\n",
              "      border-color: transparent;\n",
              "      border-right-color: var(--fill-color);\n",
              "    }\n",
              "    80% {\n",
              "      border-color: transparent;\n",
              "      border-right-color: var(--fill-color);\n",
              "      border-bottom-color: var(--fill-color);\n",
              "    }\n",
              "    90% {\n",
              "      border-color: transparent;\n",
              "      border-bottom-color: var(--fill-color);\n",
              "    }\n",
              "  }\n",
              "</style>\n",
              "\n",
              "  <script>\n",
              "    async function quickchart(key) {\n",
              "      const quickchartButtonEl =\n",
              "        document.querySelector('#' + key + ' button');\n",
              "      quickchartButtonEl.disabled = true;  // To prevent multiple clicks.\n",
              "      quickchartButtonEl.classList.add('colab-df-spinner');\n",
              "      try {\n",
              "        const charts = await google.colab.kernel.invokeFunction(\n",
              "            'suggestCharts', [key], {});\n",
              "      } catch (error) {\n",
              "        console.error('Error during call to suggestCharts:', error);\n",
              "      }\n",
              "      quickchartButtonEl.classList.remove('colab-df-spinner');\n",
              "      quickchartButtonEl.classList.add('colab-df-quickchart-complete');\n",
              "    }\n",
              "    (() => {\n",
              "      let quickchartButtonEl =\n",
              "        document.querySelector('#df-f6c83eef-483e-4b57-b408-cf27859493d7 button');\n",
              "      quickchartButtonEl.style.display =\n",
              "        google.colab.kernel.accessAllowed ? 'block' : 'none';\n",
              "    })();\n",
              "  </script>\n",
              "</div>\n",
              "    </div>\n",
              "  </div>\n"
            ],
            "application/vnd.google.colaboratory.intrinsic+json": {
              "type": "dataframe",
              "summary": "{\n  \"name\": \"pd\",\n  \"rows\": 43,\n  \"fields\": [\n    {\n      \"column\": \"entity_group\",\n      \"properties\": {\n        \"dtype\": \"category\",\n        \"num_unique_values\": 3,\n        \"samples\": [\n          \"ORG\",\n          \"MISC\",\n          \"LOC\"\n        ],\n        \"semantic_type\": \"\",\n        \"description\": \"\"\n      }\n    },\n    {\n      \"column\": \"score\",\n      \"properties\": {\n        \"dtype\": \"float32\",\n        \"num_unique_values\": 43,\n        \"samples\": [\n          0.5427189469337463,\n          0.4878028929233551,\n          0.8572776317596436\n        ],\n        \"semantic_type\": \"\",\n        \"description\": \"\"\n      }\n    },\n    {\n      \"column\": \"word\",\n      \"properties\": {\n        \"dtype\": \"string\",\n        \"num_unique_values\": 42,\n        \"samples\": [\n          \"taca de portugal\",\n          \"e\",\n          \"ut\"\n        ],\n        \"semantic_type\": \"\",\n        \"description\": \"\"\n      }\n    },\n    {\n      \"column\": \"start\",\n      \"properties\": {\n        \"dtype\": \"number\",\n        \"std\": 168,\n        \"min\": 0,\n        \"max\": 542,\n        \"num_unique_values\": 43,\n        \"samples\": [\n          508,\n          351,\n          358\n        ],\n        \"semantic_type\": \"\",\n        \"description\": \"\"\n      }\n    },\n    {\n      \"column\": \"end\",\n      \"properties\": {\n        \"dtype\": \"number\",\n        \"std\": 165,\n        \"min\": 22,\n        \"max\": 557,\n        \"num_unique_values\": 43,\n        \"samples\": [\n          513,\n          352,\n          374\n        ],\n        \"semantic_type\": \"\",\n        \"description\": \"\"\n      }\n    }\n  ]\n}"
            }
          },
          "metadata": {},
          "execution_count": 50
        }
      ],
      "source": [
        "import wikipedia\n",
        "wikipedia.set_lang(\"pt\")\n",
        "\n",
        "text_long = wikipedia.summary(\"Sporting Clube Farense\").replace('\\n', ' ')\n",
        "\n",
        "output = pipeline_ner(text_long)\n",
        "\n",
        "pd.DataFrame(output)"
      ]
    },
    {
      "cell_type": "markdown",
      "metadata": {
        "id": "TXPa9hHmP8vJ"
      },
      "source": [
        "### 2.2. Universal models"
      ]
    },
    {
      "cell_type": "markdown",
      "metadata": {
        "id": "lEGnV9KabQg4"
      },
      "source": [
        "The models above are always tailored to **one specific task from one dataset**. The main advantage of these models is, that they are very good at this specific task and perform well on one specific dataset. In reality, however, he problems you will encounter in the real world will require a slightly different task, with different definitions of categories or on different types of texts.\n",
        "\n",
        "Universal models can partly address this issue. They also only one task. But this one task is to general/universal, that many other tasks can be reformulated as this universal task. Two examples for universal tasks are:\n",
        "- Natural Language Inference (NLI): a task that can solve any classification task.\n",
        "- Token generation: an even more universal task that can solve any text-related task."
      ]
    },
    {
      "cell_type": "markdown",
      "metadata": {
        "id": "ocJsfbLcQPpO"
      },
      "source": [
        "#### Zero-shot classification"
      ]
    },
    {
      "cell_type": "code",
      "execution_count": null,
      "metadata": {
        "id": "CQWu07esQPAF"
      },
      "outputs": [],
      "source": [
        "pipeline_zeroshot_classification = pipeline(\"zero-shot-classification\", model=\"MoritzLaurer/mDeBERTa-v3-base-mnli-xnli\")"
      ]
    },
    {
      "cell_type": "code",
      "execution_count": null,
      "metadata": {
        "colab": {
          "base_uri": "https://localhost:8080/",
          "height": 143
        },
        "id": "1D3E3Tp_QPAO",
        "outputId": "283801a6-b887-4571-b9d1-554ef8698dd8"
      },
      "outputs": [
        {
          "output_type": "execute_result",
          "data": {
            "text/plain": [
              "            class probability\n",
              "0  payment issues    0.991132\n",
              "1      bug report    0.076115\n",
              "2   travel advice    0.018696"
            ],
            "text/html": [
              "\n",
              "  <div id=\"df-bd348c01-4f09-4017-9423-afabc843b85d\" class=\"colab-df-container\">\n",
              "    <div>\n",
              "<style scoped>\n",
              "    .dataframe tbody tr th:only-of-type {\n",
              "        vertical-align: middle;\n",
              "    }\n",
              "\n",
              "    .dataframe tbody tr th {\n",
              "        vertical-align: top;\n",
              "    }\n",
              "\n",
              "    .dataframe thead th {\n",
              "        text-align: right;\n",
              "    }\n",
              "</style>\n",
              "<table border=\"1\" class=\"dataframe\">\n",
              "  <thead>\n",
              "    <tr style=\"text-align: right;\">\n",
              "      <th></th>\n",
              "      <th>class</th>\n",
              "      <th>probability</th>\n",
              "    </tr>\n",
              "  </thead>\n",
              "  <tbody>\n",
              "    <tr>\n",
              "      <th>0</th>\n",
              "      <td>payment issues</td>\n",
              "      <td>0.991132</td>\n",
              "    </tr>\n",
              "    <tr>\n",
              "      <th>1</th>\n",
              "      <td>bug report</td>\n",
              "      <td>0.076115</td>\n",
              "    </tr>\n",
              "    <tr>\n",
              "      <th>2</th>\n",
              "      <td>travel advice</td>\n",
              "      <td>0.018696</td>\n",
              "    </tr>\n",
              "  </tbody>\n",
              "</table>\n",
              "</div>\n",
              "    <div class=\"colab-df-buttons\">\n",
              "\n",
              "  <div class=\"colab-df-container\">\n",
              "    <button class=\"colab-df-convert\" onclick=\"convertToInteractive('df-bd348c01-4f09-4017-9423-afabc843b85d')\"\n",
              "            title=\"Convert this dataframe to an interactive table.\"\n",
              "            style=\"display:none;\">\n",
              "\n",
              "  <svg xmlns=\"http://www.w3.org/2000/svg\" height=\"24px\" viewBox=\"0 -960 960 960\">\n",
              "    <path d=\"M120-120v-720h720v720H120Zm60-500h600v-160H180v160Zm220 220h160v-160H400v160Zm0 220h160v-160H400v160ZM180-400h160v-160H180v160Zm440 0h160v-160H620v160ZM180-180h160v-160H180v160Zm440 0h160v-160H620v160Z\"/>\n",
              "  </svg>\n",
              "    </button>\n",
              "\n",
              "  <style>\n",
              "    .colab-df-container {\n",
              "      display:flex;\n",
              "      gap: 12px;\n",
              "    }\n",
              "\n",
              "    .colab-df-convert {\n",
              "      background-color: #E8F0FE;\n",
              "      border: none;\n",
              "      border-radius: 50%;\n",
              "      cursor: pointer;\n",
              "      display: none;\n",
              "      fill: #1967D2;\n",
              "      height: 32px;\n",
              "      padding: 0 0 0 0;\n",
              "      width: 32px;\n",
              "    }\n",
              "\n",
              "    .colab-df-convert:hover {\n",
              "      background-color: #E2EBFA;\n",
              "      box-shadow: 0px 1px 2px rgba(60, 64, 67, 0.3), 0px 1px 3px 1px rgba(60, 64, 67, 0.15);\n",
              "      fill: #174EA6;\n",
              "    }\n",
              "\n",
              "    .colab-df-buttons div {\n",
              "      margin-bottom: 4px;\n",
              "    }\n",
              "\n",
              "    [theme=dark] .colab-df-convert {\n",
              "      background-color: #3B4455;\n",
              "      fill: #D2E3FC;\n",
              "    }\n",
              "\n",
              "    [theme=dark] .colab-df-convert:hover {\n",
              "      background-color: #434B5C;\n",
              "      box-shadow: 0px 1px 3px 1px rgba(0, 0, 0, 0.15);\n",
              "      filter: drop-shadow(0px 1px 2px rgba(0, 0, 0, 0.3));\n",
              "      fill: #FFFFFF;\n",
              "    }\n",
              "  </style>\n",
              "\n",
              "    <script>\n",
              "      const buttonEl =\n",
              "        document.querySelector('#df-bd348c01-4f09-4017-9423-afabc843b85d button.colab-df-convert');\n",
              "      buttonEl.style.display =\n",
              "        google.colab.kernel.accessAllowed ? 'block' : 'none';\n",
              "\n",
              "      async function convertToInteractive(key) {\n",
              "        const element = document.querySelector('#df-bd348c01-4f09-4017-9423-afabc843b85d');\n",
              "        const dataTable =\n",
              "          await google.colab.kernel.invokeFunction('convertToInteractive',\n",
              "                                                    [key], {});\n",
              "        if (!dataTable) return;\n",
              "\n",
              "        const docLinkHtml = 'Like what you see? Visit the ' +\n",
              "          '<a target=\"_blank\" href=https://colab.research.google.com/notebooks/data_table.ipynb>data table notebook</a>'\n",
              "          + ' to learn more about interactive tables.';\n",
              "        element.innerHTML = '';\n",
              "        dataTable['output_type'] = 'display_data';\n",
              "        await google.colab.output.renderOutput(dataTable, element);\n",
              "        const docLink = document.createElement('div');\n",
              "        docLink.innerHTML = docLinkHtml;\n",
              "        element.appendChild(docLink);\n",
              "      }\n",
              "    </script>\n",
              "  </div>\n",
              "\n",
              "\n",
              "<div id=\"df-b2ce3db5-c258-4553-bbe7-e935525bdb22\">\n",
              "  <button class=\"colab-df-quickchart\" onclick=\"quickchart('df-b2ce3db5-c258-4553-bbe7-e935525bdb22')\"\n",
              "            title=\"Suggest charts\"\n",
              "            style=\"display:none;\">\n",
              "\n",
              "<svg xmlns=\"http://www.w3.org/2000/svg\" height=\"24px\"viewBox=\"0 0 24 24\"\n",
              "     width=\"24px\">\n",
              "    <g>\n",
              "        <path d=\"M19 3H5c-1.1 0-2 .9-2 2v14c0 1.1.9 2 2 2h14c1.1 0 2-.9 2-2V5c0-1.1-.9-2-2-2zM9 17H7v-7h2v7zm4 0h-2V7h2v10zm4 0h-2v-4h2v4z\"/>\n",
              "    </g>\n",
              "</svg>\n",
              "  </button>\n",
              "\n",
              "<style>\n",
              "  .colab-df-quickchart {\n",
              "      --bg-color: #E8F0FE;\n",
              "      --fill-color: #1967D2;\n",
              "      --hover-bg-color: #E2EBFA;\n",
              "      --hover-fill-color: #174EA6;\n",
              "      --disabled-fill-color: #AAA;\n",
              "      --disabled-bg-color: #DDD;\n",
              "  }\n",
              "\n",
              "  [theme=dark] .colab-df-quickchart {\n",
              "      --bg-color: #3B4455;\n",
              "      --fill-color: #D2E3FC;\n",
              "      --hover-bg-color: #434B5C;\n",
              "      --hover-fill-color: #FFFFFF;\n",
              "      --disabled-bg-color: #3B4455;\n",
              "      --disabled-fill-color: #666;\n",
              "  }\n",
              "\n",
              "  .colab-df-quickchart {\n",
              "    background-color: var(--bg-color);\n",
              "    border: none;\n",
              "    border-radius: 50%;\n",
              "    cursor: pointer;\n",
              "    display: none;\n",
              "    fill: var(--fill-color);\n",
              "    height: 32px;\n",
              "    padding: 0;\n",
              "    width: 32px;\n",
              "  }\n",
              "\n",
              "  .colab-df-quickchart:hover {\n",
              "    background-color: var(--hover-bg-color);\n",
              "    box-shadow: 0 1px 2px rgba(60, 64, 67, 0.3), 0 1px 3px 1px rgba(60, 64, 67, 0.15);\n",
              "    fill: var(--button-hover-fill-color);\n",
              "  }\n",
              "\n",
              "  .colab-df-quickchart-complete:disabled,\n",
              "  .colab-df-quickchart-complete:disabled:hover {\n",
              "    background-color: var(--disabled-bg-color);\n",
              "    fill: var(--disabled-fill-color);\n",
              "    box-shadow: none;\n",
              "  }\n",
              "\n",
              "  .colab-df-spinner {\n",
              "    border: 2px solid var(--fill-color);\n",
              "    border-color: transparent;\n",
              "    border-bottom-color: var(--fill-color);\n",
              "    animation:\n",
              "      spin 1s steps(1) infinite;\n",
              "  }\n",
              "\n",
              "  @keyframes spin {\n",
              "    0% {\n",
              "      border-color: transparent;\n",
              "      border-bottom-color: var(--fill-color);\n",
              "      border-left-color: var(--fill-color);\n",
              "    }\n",
              "    20% {\n",
              "      border-color: transparent;\n",
              "      border-left-color: var(--fill-color);\n",
              "      border-top-color: var(--fill-color);\n",
              "    }\n",
              "    30% {\n",
              "      border-color: transparent;\n",
              "      border-left-color: var(--fill-color);\n",
              "      border-top-color: var(--fill-color);\n",
              "      border-right-color: var(--fill-color);\n",
              "    }\n",
              "    40% {\n",
              "      border-color: transparent;\n",
              "      border-right-color: var(--fill-color);\n",
              "      border-top-color: var(--fill-color);\n",
              "    }\n",
              "    60% {\n",
              "      border-color: transparent;\n",
              "      border-right-color: var(--fill-color);\n",
              "    }\n",
              "    80% {\n",
              "      border-color: transparent;\n",
              "      border-right-color: var(--fill-color);\n",
              "      border-bottom-color: var(--fill-color);\n",
              "    }\n",
              "    90% {\n",
              "      border-color: transparent;\n",
              "      border-bottom-color: var(--fill-color);\n",
              "    }\n",
              "  }\n",
              "</style>\n",
              "\n",
              "  <script>\n",
              "    async function quickchart(key) {\n",
              "      const quickchartButtonEl =\n",
              "        document.querySelector('#' + key + ' button');\n",
              "      quickchartButtonEl.disabled = true;  // To prevent multiple clicks.\n",
              "      quickchartButtonEl.classList.add('colab-df-spinner');\n",
              "      try {\n",
              "        const charts = await google.colab.kernel.invokeFunction(\n",
              "            'suggestCharts', [key], {});\n",
              "      } catch (error) {\n",
              "        console.error('Error during call to suggestCharts:', error);\n",
              "      }\n",
              "      quickchartButtonEl.classList.remove('colab-df-spinner');\n",
              "      quickchartButtonEl.classList.add('colab-df-quickchart-complete');\n",
              "    }\n",
              "    (() => {\n",
              "      let quickchartButtonEl =\n",
              "        document.querySelector('#df-b2ce3db5-c258-4553-bbe7-e935525bdb22 button');\n",
              "      quickchartButtonEl.style.display =\n",
              "        google.colab.kernel.accessAllowed ? 'block' : 'none';\n",
              "    })();\n",
              "  </script>\n",
              "</div>\n",
              "    </div>\n",
              "  </div>\n"
            ],
            "application/vnd.google.colaboratory.intrinsic+json": {
              "type": "dataframe",
              "summary": "{\n  \"name\": \"pd\",\n  \"rows\": 3,\n  \"fields\": [\n    {\n      \"column\": \"class\",\n      \"properties\": {\n        \"dtype\": \"string\",\n        \"num_unique_values\": 3,\n        \"samples\": [\n          \"payment issues\",\n          \"bug report\",\n          \"travel advice\"\n        ],\n        \"semantic_type\": \"\",\n        \"description\": \"\"\n      }\n    },\n    {\n      \"column\": \"probability\",\n      \"properties\": {\n        \"dtype\": \"date\",\n        \"min\": 0.018695790320634842,\n        \"max\": 0.9911324977874756,\n        \"num_unique_values\": 3,\n        \"samples\": [\n          0.9911324977874756,\n          0.07611463218927383,\n          0.018695790320634842\n        ],\n        \"semantic_type\": \"\",\n        \"description\": \"\"\n      }\n    }\n  ]\n}"
            }
          },
          "metadata": {},
          "execution_count": 52
        }
      ],
      "source": [
        "text = \"Customer: I have not received my reimbursement yet. What the hell is going on?\"\n",
        "classes = ['payment issues', 'travel advice', 'bug report']  # \"account opening\", \"customer complaint\"\n",
        "\n",
        "#text = \"I do not think the government is trustworthy anymore. We need to mobilize and resist!\"\n",
        "#classes = [\"civil disobedience\", \"praise of the government\", \"travel advice\"]  # \"collective action\"\n",
        "\n",
        "output = pipeline_zeroshot_classification(text, classes, multi_label=True)\n",
        "\n",
        "pd.DataFrame(data=[output[\"labels\"], output[\"scores\"]], index=[\"class\", \"probability\"]).T\n"
      ]
    },
    {
      "cell_type": "markdown",
      "metadata": {
        "id": "JwM1gzfvA-Eb"
      },
      "source": [
        "## Exercise  +  Q&A"
      ]
    },
    {
      "cell_type": "markdown",
      "metadata": {
        "id": "1V-hyIweBvqN"
      },
      "source": [
        "\n",
        "**1. Exercise:** (5 min)\n",
        "\n",
        "Browse through the Hugging Face Hub and **identify a model or dataset that could be useful for you**. Then open this Google Doc and copy-paste the model identifier and a short explanation why this model is interesting for you. Googel Doc: https://docs.google.com/document/d/1KZ6DnZDUg_sxqpS8hhF0MDohZ0IRUZaV83Ixu93n-X8/edit?usp=sharing\n",
        "\n",
        "\n"
      ]
    },
    {
      "cell_type": "markdown",
      "metadata": {
        "id": "ZEtqC-Wt3Jsw"
      },
      "source": [
        "**2. Reading, thinking & asking:** (5 min)\n",
        "\n",
        "a) Go through the notebook and ask any questions you might have. You can also run the notebook yourself.\n",
        "\n",
        "b) Write the answers to the following questions on a piece of paper / digital notebook in your own words:\n",
        "\n",
        "* How does open source help increase accessibility to machine learning? Where does it not help?\n",
        "\n",
        "* In your own words, write down the main difference between standard models and universal models.\n",
        "\n",
        "* **Post any questions in the chat/Slack!**\n"
      ]
    },
    {
      "cell_type": "code",
      "execution_count": null,
      "metadata": {
        "id": "OpYqYDc8YTXN"
      },
      "outputs": [],
      "source": []
    }
  ],
  "metadata": {
    "accelerator": "GPU",
    "colab": {
      "gpuType": "T4",
      "machine_shape": "hm",
      "provenance": [],
      "include_colab_link": true
    },
    "kernelspec": {
      "display_name": "Python 3 (ipykernel)",
      "language": "python",
      "name": "python3"
    },
    "language_info": {
      "codemirror_mode": {
        "name": "ipython",
        "version": 3
      },
      "file_extension": ".py",
      "mimetype": "text/x-python",
      "name": "python",
      "nbconvert_exporter": "python",
      "pygments_lexer": "ipython3",
      "version": "3.11.7"
    }
  },
  "nbformat": 4,
  "nbformat_minor": 0
}